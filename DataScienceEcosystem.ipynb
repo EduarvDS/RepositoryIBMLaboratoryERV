{
 "cells": [
  {
   "cell_type": "markdown",
   "id": "9b3837f1-ab65-4797-9bb9-2960c5c8b47f",
   "metadata": {},
   "source": [
    "##### Exercise 1: Create a Jupyter Notebook\n",
    "##### ___DataScienceEcosystem.ipynb___"
   ]
  },
  {
   "cell_type": "markdown",
   "id": "6aa55b7a-066a-41e2-9001-9fe40a60faef",
   "metadata": {},
   "source": [
    "#### Exercise 2: Create markdown cell with title of the notebook\n",
    "# Data Science Tools and Ecosystem"
   ]
  },
  {
   "cell_type": "markdown",
   "id": "3332c0f2-28ca-4aac-8cc4-fa6a593a9237",
   "metadata": {},
   "source": [
    "#### Exercise 3 - Create a markdown cell for an introduction\n",
    "### In this notebook, Data Science Tools and Ecosystem are summarized.\n"
   ]
  },
  {
   "cell_type": "markdown",
   "id": "2044c95c-c34a-48a0-8372-d36c0d3b9c4b",
   "metadata": {},
   "source": [
    "#### Exercise 10 - Insert a markdown cell to list Objectives\n",
    "### ***Objectives:***\n",
    "#### In this notebook, you Will:\n",
    "- List popular languages for Data Science.\n",
    "- List Popular libraries used by Data Science\n",
    "- few examples of evaluating arithmetic expressions in Python\n",
    "\n"
   ]
  },
  {
   "cell_type": "markdown",
   "id": "21e4f142-4e48-4c84-abf0-a25af2416b1d",
   "metadata": {},
   "source": [
    "#### Exercise 4 - Create a markdown cell to list data science languages\n",
    "### Some of the popular languages that Data Scientists use are:\n",
    "1. Python\n",
    "2. R \n",
    "3. SQL\n",
    "4. Scala\n",
    "5. Julia\n",
    "6. Java\n",
    "7. C++"
   ]
  },
  {
   "cell_type": "markdown",
   "id": "93cb2278-4428-4bbd-893b-4fd56aeb6bbd",
   "metadata": {},
   "source": [
    "#### Exercise 5 - Create a markdown cell to list data science libraries\n",
    "### Some of the commonly used libraries used by Data Scientists include:\n",
    "\n",
    "1. Pandas\n",
    "2. Numpy\n",
    "3. Matplotlib\n",
    "4. Scikit-learn\n",
    "5. TensorFlow\n",
    "6. ggplot2\n",
    "7. Apache Spark\n",
    "\n",
    "\n"
   ]
  },
  {
   "cell_type": "markdown",
   "id": "72f1864d-b049-422d-b9b3-ba71b6940339",
   "metadata": {},
   "source": [
    "#### Exercise 6 - Create a markdown cell with a table of Data Science tools\n",
    "\n",
    "| Data Science Tools |\n",
    "|--------------------|\n",
    "|MySQL|\n",
    "|KubeFlow|\n",
    "|Apache Superset|\n",
    "|TensorFlow|\n",
    "|GitHub|\n"
   ]
  },
  {
   "cell_type": "markdown",
   "id": "93697e31-9558-481c-8696-2a12d7ad7f78",
   "metadata": {},
   "source": [
    "#### Exercise 7 - Create a markdown cell introducing arithmetic expression examples\n",
    "### Below are a few examples of evaluating arithmetic expressions in Python"
   ]
  },
  {
   "cell_type": "markdown",
   "id": "f3c7117a-1cdf-4841-95a5-49053a804038",
   "metadata": {},
   "source": [
    "#### Exercise 8 - Create a code cell to multiply and add numbers"
   ]
  },
  {
   "cell_type": "markdown",
   "id": "feb7b8a2-4237-4e77-912e-b4f931433329",
   "metadata": {},
   "source": [
    "###  This a simple arithmetic expression to mutiply then add integers"
   ]
  },
  {
   "cell_type": "code",
   "execution_count": 3,
   "id": "4836b08f-075c-4465-8e78-32712e11309b",
   "metadata": {
    "tags": []
   },
   "outputs": [
    {
     "data": {
      "text/plain": [
       "17"
      ]
     },
     "execution_count": 3,
     "metadata": {},
     "output_type": "execute_result"
    }
   ],
   "source": [
    "(3*4)+5"
   ]
  },
  {
   "cell_type": "markdown",
   "id": "a9407069-d67b-4ddf-9cc8-07a963f2359b",
   "metadata": {},
   "source": [
    "#### Exercise 9 - Create a code cell to convert minutes to hours\n",
    "### This will convert 200 minutes to hours by diving by 60"
   ]
  },
  {
   "cell_type": "code",
   "execution_count": 4,
   "id": "f8c58287-f4ef-4a6d-9571-baeec3a367ed",
   "metadata": {
    "tags": []
   },
   "outputs": [
    {
     "data": {
      "text/plain": [
       "3.3333333333333335"
      ]
     },
     "execution_count": 4,
     "metadata": {},
     "output_type": "execute_result"
    }
   ],
   "source": [
    "(200/60)"
   ]
  },
  {
   "cell_type": "markdown",
   "id": "b1c99d99-dfbf-4cf5-b18f-3016307d6163",
   "metadata": {},
   "source": [
    "#### Exercise 11 - Create a markdown cell to indicate the Author's name\n",
    "## Author \n",
    "Eduardo Ramos Vanegas"
   ]
  },
  {
   "cell_type": "code",
   "execution_count": null,
   "id": "86b5f0ce-db1c-4671-b122-28bc6ad1d571",
   "metadata": {},
   "outputs": [],
   "source": []
  }
 ],
 "metadata": {
  "kernelspec": {
   "display_name": "Python",
   "language": "python",
   "name": "conda-env-python-py"
  },
  "language_info": {
   "codemirror_mode": {
    "name": "ipython",
    "version": 3
   },
   "file_extension": ".py",
   "mimetype": "text/x-python",
   "name": "python",
   "nbconvert_exporter": "python",
   "pygments_lexer": "ipython3",
   "version": "3.7.12"
  }
 },
 "nbformat": 4,
 "nbformat_minor": 5
}
